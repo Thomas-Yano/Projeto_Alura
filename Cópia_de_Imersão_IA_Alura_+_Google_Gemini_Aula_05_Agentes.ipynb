{
  "nbformat": 4,
  "nbformat_minor": 0,
  "metadata": {
    "colab": {
      "provenance": []
    },
    "kernelspec": {
      "name": "python3",
      "display_name": "Python 3"
    },
    "language_info": {
      "name": "python"
    }
  },
  "cells": [
    {
      "cell_type": "code",
      "source": [
        "%pip -q install google-genai"
      ],
      "metadata": {
        "id": "UCCbECexLk_h"
      },
      "execution_count": 1,
      "outputs": []
    },
    {
      "cell_type": "code",
      "source": [
        "# Configura a API Key do Google Gemini\n",
        "\n",
        "import os\n",
        "from google.colab import userdata\n",
        "\n",
        "os.environ[\"GOOGLE_API_KEY\"] = userdata.get('GOOGLE_API_KEY')"
      ],
      "metadata": {
        "id": "NfCqHo1tLk8P"
      },
      "execution_count": 2,
      "outputs": []
    },
    {
      "cell_type": "code",
      "source": [
        "# Configura o cliente da SDK do Gemini\n",
        "\n",
        "from google import genai\n",
        "\n",
        "client = genai.Client()\n",
        "\n",
        "MODEL_ID = \"gemini-2.0-flash\""
      ],
      "metadata": {
        "id": "bV4w0H5TLk5g"
      },
      "execution_count": 3,
      "outputs": []
    },
    {
      "cell_type": "code",
      "source": [
        "# Pergunta ao Gemini uma informação mais recente que seu conhecimento\n",
        "\n",
        "from IPython.display import HTML, Markdown"
      ],
      "metadata": {
        "id": "HwVP7Xi34Zuw"
      },
      "execution_count": 4,
      "outputs": []
    },
    {
      "cell_type": "code",
      "source": [
        "# Instalar Framework ADK de agentes do Google ################################################\n",
        "!pip install -q google-adk"
      ],
      "metadata": {
        "id": "hvZ3UnPI4jhJ"
      },
      "execution_count": 5,
      "outputs": []
    },
    {
      "cell_type": "code",
      "execution_count": 6,
      "metadata": {
        "id": "aePV2bdfDeoW"
      },
      "outputs": [],
      "source": [
        "from google.adk.agents import Agent\n",
        "from google.adk.runners import Runner\n",
        "from google.adk.sessions import InMemorySessionService\n",
        "from google.adk.tools import google_search\n",
        "from google.genai import types  # Para criar conteúdos (Content e Part)\n",
        "from datetime import date\n",
        "import textwrap # Para formatar melhor a saída de texto\n",
        "from IPython.display import display, Markdown # Para exibir texto formatado no Colab\n",
        "import requests # Para fazer requisições HTTP\n",
        "import warnings\n",
        "\n",
        "warnings.filterwarnings(\"ignore\")"
      ]
    },
    {
      "cell_type": "code",
      "source": [
        "# Função auxiliar que envia uma mensagem para um agente via Runner e retorna a resposta final\n",
        "def call_agent(agent: Agent, message_text: str) -> str:\n",
        "    # Cria um serviço de sessão em memória\n",
        "    session_service = InMemorySessionService()\n",
        "    # Cria uma nova sessão (você pode personalizar os IDs conforme necessário)\n",
        "    session = session_service.create_session(app_name=agent.name, user_id=\"user1\", session_id=\"session1\")\n",
        "    # Cria um Runner para o agente\n",
        "    runner = Runner(agent=agent, app_name=agent.name, session_service=session_service)\n",
        "    # Cria o conteúdo da mensagem de entrada\n",
        "    content = types.Content(role=\"user\", parts=[types.Part(text=message_text)])\n",
        "\n",
        "    final_response = \"\"\n",
        "    # Itera assincronamente pelos eventos retornados durante a execução do agente\n",
        "    for event in runner.run(user_id=\"user1\", session_id=\"session1\", new_message=content):\n",
        "        if event.is_final_response():\n",
        "          for part in event.content.parts:\n",
        "            if part.text is not None:\n",
        "              final_response += part.text\n",
        "              final_response += \"\\n\"\n",
        "    return final_response"
      ],
      "metadata": {
        "id": "_xP4lWhsS5ko"
      },
      "execution_count": 7,
      "outputs": []
    },
    {
      "cell_type": "code",
      "source": [
        "# Função auxiliar para exibir texto formatado em Markdown no Colab\n",
        "def to_markdown(text):\n",
        "  text = text.replace('•', '  *')\n",
        "  return Markdown(textwrap.indent(text, '> ', predicate=lambda _: True))"
      ],
      "metadata": {
        "id": "8dosiodaxfFR"
      },
      "execution_count": 8,
      "outputs": []
    },
    {
      "cell_type": "code",
      "source": [
        "##########################################\n",
        "# --- Agente 1: Buscador de Notícias --- #\n",
        "##########################################\n",
        "def agente_buscador(topico, data_de_hoje):\n",
        "    buscador = Agent(\n",
        "        name=\"agente_buscador\",\n",
        "        model=\"gemini-2.0-flash\",\n",
        "        description=\"Agente que busca informação geral e detalhada no google sobre um tópico.\",\n",
        "        tools=[google_search],\n",
        "        instruction=\"\"\"\n",
        "       Função: Agente especializado em buscar e coletar dados e informações\n",
        "       relevantes em (Google Search).\n",
        "       Fornecer pesquisa detalhadas e relevantes para o planejamento e organização de conteúdo.\n",
        "       Oferecer apenas as pesquisas mais relevantes.\n",
        "       **Instruções de Busca Específicas:**\n",
        "       1. **Foco Principal:** Busque por **informações aprofundadas, dados, fatos, tendências, contextos e detalhes** sobre o tópico fornecido. O objetivo é obter um entendimento completo e factual do assunto.\n",
        "       2. **Conteúdo a Excluir Ativamente:**\n",
        "          - Cursos online, treinamentos, webinars, plataformas de ensino à distância, materiais de curso.\n",
        "       3. **Recomendações (Livros, etc.):** Se encontrar recomendações relevantes (como livros) que **complementam ou ilustram a informação geral** sobre o tópico, pode incluí-las. No entanto, o foco **não** é criar uma lista de recomendações, mas sim usar essas recomendações como exemplos ou fontes dentro de um contexto informativo mais amplo.\n",
        "\n",
        "       Identificar e extrair informações chave, dados, tendências e exemplos **que expliquem e detalhem o tópico**.\n",
        "       Summarizar os achados de forma clara e concisa, priorizando a apresentação das **informações informativas e factuais** encontradas. Mencione recomendações apenas se forem altamente relevantes para o conteúdo informativo.\n",
        "        \"\"\"\n",
        "    )\n",
        "    entrada_do_agente_buscador = f\"Tópico: {topico}\\nData de hoje: {data_de_hoje}\"\n",
        "    # Executa o agente\n",
        "    resposta_do_agente_buscador = call_agent(buscador, entrada_do_agente_buscador)\n",
        "    return resposta_do_agente_buscador"
      ],
      "metadata": {
        "id": "o8bqIfi_DyH8"
      },
      "execution_count": 9,
      "outputs": []
    },
    {
      "cell_type": "code",
      "source": [
        "################################################\n",
        "# --- Agente 2: Planejador de posts --- #\n",
        "################################################\n",
        "def agente_planejador(topico, lancamentos_buscados):\n",
        "    planejador = Agent(\n",
        "        name=\"agente_planejador\",\n",
        "        model=\"gemini-2.0-flash\",\n",
        "        # Inserir as instruções do Agente Planejador #################################################\n",
        "        instruction=\"\"\"\n",
        "        Função: Agente especializado em estruturar e organizar informações para\n",
        "        criar planos de conteúdo detalhados e acionáveis para a redação final.\n",
        "        Baseado no Tópico e nos dados de Lançamentos buscados, crie um plano\n",
        "        de conteúdo organizado em SEÇÕES ENUMERADAS em Markdown.\n",
        "\n",
        "        Exemplo de formato desejado:\n",
        "        1. Título da Primeira Seção (ex: tema 1)\n",
        "        2. Título da Segunda Seção (ex: tema 2)\n",
        "        3. Título da Terceira Seção (ex: tema 3)\n",
        "        4. Titulo da Quarta Seção (ex: tema 4)\n",
        "\n",
        "        Certifique-se de que cada ponto numerado é um título de seção claro e conciso.\n",
        "        Filtrar os dados recebidos pelo agente_buscador selecionando apenas 4 mais relevantes e importantes\n",
        "        abordar.\n",
        "        NÃO GERAR MAIS DE 4 SEÇÕES.\n",
        "        Selecionar sitações, pesquisas ou fatos interessantes para abordar nos paragrafos.\n",
        "        O plano deve ser uma lista numerada que delineia a estrutura completa do post.\n",
        "        \"\"\",\n",
        "        description=\"Planejador de conteúdo\",\n",
        "    )\n",
        "\n",
        "    entrada_do_agente_planejador = f\"Tópico:{topico}\\nLançamentos buscados: {lancamentos_buscados}\"\n",
        "    # Executa o agente\n",
        "    plano_do_post = call_agent(planejador, entrada_do_agente_planejador)\n",
        "    return plano_do_post"
      ],
      "metadata": {
        "id": "y3VO1uo5_ghO"
      },
      "execution_count": 10,
      "outputs": []
    },
    {
      "cell_type": "code",
      "source": [
        "######################################\n",
        "# --- Agente 3: Redator do Post --- #\n",
        "######################################\n",
        "def agente_redator(topico, plano_de_post):\n",
        "    redator = Agent(\n",
        "        name=\"agente_redator\",\n",
        "        model=\"gemini-2.0-flash\",\n",
        "        instruction=\"\"\"\n",
        "        Você é um redator Criativo especializado em linguagem e gramatica,\n",
        "        com foco em criar redações e resumos tecnicos profissionais.\n",
        "        Você escreve para alunos e profissionais buscando aprimorar seus conhecimentos.\n",
        "        Escrita profissional mas com toque didático.\n",
        "        Utilize o tema fornecido no plano de post e os pontos mais relevantes fornecidos e, com base nisso,\n",
        "        escreva o texto abordando o tema.\n",
        "        Importante ressaltar para deixar pelo menos 1 citação relevante.\n",
        "        O post deve ser engajador, informativo, que prenda a tenção e foco do leitor.\n",
        "        O texto deve seguir um padrão de no máximo 300 palavras.\n",
        "            \"\"\",\n",
        "        description=\"Agente redator de posts engajador\"\n",
        "    )\n",
        "    entrada_do_agente_redator = f\"Tópico: {topico}\\nPlano de post: {plano_de_post}\"\n",
        "    # Executa o agente\n",
        "    rascunho = call_agent(redator, entrada_do_agente_redator)\n",
        "    return rascunho"
      ],
      "metadata": {
        "id": "uOqlg2TRLVh1"
      },
      "execution_count": 11,
      "outputs": []
    },
    {
      "cell_type": "code",
      "source": [
        "##########################################\n",
        "# --- Agente 4: Revisor de Qualidade --- #\n",
        "##########################################\n",
        "def agente_revisor(topico, rascunho_gerado):\n",
        "    revisor = Agent(\n",
        "        name=\"agente_revisor\",\n",
        "        model=\"gemini-2.0-flash\",\n",
        "        instruction=\"\"\"\n",
        "        Você é um revisor Criativo especializado em linguagem e gramatica,\n",
        "        com foco em criar redações e resumos tecnicos profissionais.\n",
        "        Você escreve para alunos e profissionais buscando aprimorar seus conhecimentos.\n",
        "        Escrita profissional mas com toque didático. Seja conciso em suas redações.\n",
        "        Revise o rascunho de post abaixo sobre o tópico indicado, verificando\n",
        "        sua escrita.\n",
        "        Não desejo que seja exigente e nem faça muitas correções\n",
        "        Apenas exija mudança se for realmente importante e necessário para\n",
        "        melhoria do material original.\n",
        "        Se o rascunho estiver bom, responda apenas 'O rascunho está pronto!'.\n",
        "        O texto deve seguir um padrão de no máximo 300 palavras.\n",
        "        proibido de fazer correção após 2 tentativas.\n",
        "        \"\"\",\n",
        "        description=\"Agente revisor de post.\"\n",
        "    )\n",
        "    entrada_do_agente_revisor = f\"Tópico: {topico}\\nRascunho: {rascunho_gerado}\"\n",
        "    # Executa o agente\n",
        "    texto_revisado = call_agent(revisor, entrada_do_agente_revisor)\n",
        "    return texto_revisado"
      ],
      "metadata": {
        "id": "_aTb1SdkLeT6"
      },
      "execution_count": 12,
      "outputs": []
    },
    {
      "source": [
        "from datetime import date\n",
        "import re\n",
        "from IPython.display import display, Markdown\n",
        "from google.adk.agents import Agent  # Import Agent\n",
        "from google.adk.runners import Runner # Import Runner\n",
        "from google.adk.sessions import InMemorySessionService # Import InMemorySessionService\n",
        "from google.adk.tools import google_search # Import google_search\n",
        "from google.genai import types  # Para criar conteúdos (Content e Part) # Import types\n",
        "import textwrap\n",
        "\n",
        "# --- Funções Auxiliares (mantenha ou adapte conforme necessário) ---\n",
        "# ... (mantenha as definições de extract_content_from_part, call_agent, to_markdown, extrair_secoes_do_plano)\n",
        "\n",
        "def extract_content_from_part(part):\n",
        "    \"\"\"Extracts text content from a GenAI Part.\"\"\"\n",
        "    if part.text:\n",
        "        return part.text\n",
        "    return \"\"\n",
        "\n",
        "def call_agent(agent: Agent, message_text: str) -> str:\n",
        "    # Cria um serviço de sessão em memória\n",
        "    session_service = InMemorySessionService()\n",
        "    # Cria uma nova sessão\n",
        "    session = session_service.create_session(app_name=agent.name, user_id=\"user1\", session_id=\"session1\")\n",
        "    # Cria um Runner para o agente\n",
        "    runner = Runner(agent=agent, app_name=agent.name, session_service=session_service)\n",
        "    # Cria o conteúdo da mensagem de entrada\n",
        "    content = types.Content(role=\"user\", parts=[types.Part(text=message_text)])\n",
        "\n",
        "    final_response = \"\"\n",
        "    try:\n",
        "        for event in runner.run(user_id=\"user1\", session_id=\"session1\", new_message=content):\n",
        "            if event.is_final_response():\n",
        "              for part in event.content.parts:\n",
        "                final_response += extract_content_from_part(part)\n",
        "                final_response += \"\\n\"\n",
        "    except Exception as e:\n",
        "        print(f\"Error during agent run: {e}\")\n",
        "    return final_response\n",
        "\n",
        "def to_markdown(text):\n",
        "  text = text.replace('•', '  *')\n",
        "  return Markdown(textwrap.indent(text, '> ', predicate=lambda _: True))\n",
        "\n",
        "\n",
        "def extrair_secoes_do_plano(texto_plano: str) -> list[str]:\n",
        "    secoes = []\n",
        "    padroes_secao = [\n",
        "        r'^\\s*##\\s*(.+)',\n",
        "        r'^\\s*\\d+\\.\\s*(.+)',\n",
        "        r'^\\s*-\\s*(.+)'\n",
        "    ]\n",
        "    linhas = texto_plano.splitlines()\n",
        "    for linha in linhas:\n",
        "        for padrao in padroes_secao:\n",
        "            match = re.match(padrao, linha.strip())\n",
        "            if match:\n",
        "                secao_titulo = match.group(1).strip()\n",
        "                if secao_titulo and len(secao_titulo) > 3:\n",
        "                    secoes.append(secao_titulo)\n",
        "                break\n",
        "    if not secoes and texto_plano.strip():\n",
        "         return [\"Conteúdo Principal\"]\n",
        "    elif not secoes and not texto_plano.strip():\n",
        "        return []\n",
        "    return secoes\n",
        "\n",
        "\n",
        "# --- Agente 1: Buscador de Notícias ---\n",
        "# Defina o objeto do agente aqui ou antes da lógica principal\n",
        "buscador_agent_obj = Agent(\n",
        "    name=\"agente_buscador\",\n",
        "    model=\"gemini-2.0-flash\",\n",
        "    description=\"Agente que busca informação geral e detalhada no google sobre um tópico.\",\n",
        "    tools=[google_search],\n",
        "    instruction=\"\"\"\n",
        "   Função: Agente especializado em buscar e coletar dados e informações\n",
        "   relevantes em (Google Search).\n",
        "   Fornecer pesquisa detalhadas e relevantes para o planejamento e organização de conteúdo.\n",
        "   Oferecer apenas as pesquisas mais relevantes.\n",
        "   **Instruções de Busca Específicas:**\n",
        "   1. **Foco Principal:** Busque por **informações aprofundadas, dados, fatos, tendências, contextos e detalhes** sobre o tópico fornecido, **considerando o foco e propósito especificados pelo usuário**. O objetivo é obter um entendimento completo e factual do assunto, **alinhado com a forma de abordagem desejada**.\n",
        "   2. **Conteúdo a Excluir Ativamente:**\n",
        "      - Cursos online, treinamentos, webinars, plataformas de ensino à distância, materiais de curso.\n",
        "   3. **Recomendações (Livros, etc.):** Se encontrar recomendações relevantes (como livros) que **complementam ou ilustram a informação geral** sobre o tópico, pode incluí-las. No entanto, o foco **não** é criar uma lista de recomendações, mas sim usar essas recomendações como exemplos ou fontes dentro de um contexto informativo mais amplo.\n",
        "\n",
        "   Identificar e extrair informações chave, dados, tendências e exemplos **que expliquem e detalhem o tópico**, **seguindo a forma de abordagem e o propósito definidos pelo usuário**.\n",
        "   Summarizar os achados de forma clara e concisa, priorizando a apresentação das **informações informativas e factuais** encontradas. Mencione recomendações apenas se forem altamente relevantes para o conteúdo informativo.\n",
        "    \"\"\"\n",
        ")\n",
        "\n",
        "# --- Agente 2: Planejador de posts ---\n",
        "# Defina o objeto do agente aqui ou antes da lógica principal\n",
        "planejador_agent_obj = Agent(\n",
        "    name=\"agente_planejador\",\n",
        "    model=\"gemini-2.0-flash\",\n",
        "    instruction=\"\"\"\n",
        "    Função: Agente especializado em estruturar e organizar informações para\n",
        "    criar planos de conteúdo detalhados e acionáveis para a redação final.\n",
        "    Baseado no Tópico, Forma de Abordagem, Propósito e nos dados de Lançamentos buscados, crie um plano\n",
        "    de conteúdo organizado em SEÇÕES ENUMERADAS em Markdown.\n",
        "\n",
        "    Exemplo de formato desejado:\n",
        "    1. Título da Primeira Seção (ex: tema 1)\n",
        "    2. Título da Segunda Seção (ex: tema 2)\n",
        "    3. Título da Terceira Seção (ex: tema 3)\n",
        "    4. Titulo da Quarta Seção (ex: tema 4)\n",
        "\n",
        "    Certifique-se de que cada ponto numerado é um título de seção claro e conciso.\n",
        "    Filtrar os dados recebidos pelo agente_buscador selecionando apenas 4 mais relevantes e importantes\n",
        "    abordar, **considerando a Forma de Abordagem e o Propósito especificados**.\n",
        "    NÃO GERAR MAIS DE 4 SEÇÕES.\n",
        "    Selecionar sitações, pesquisas ou fatos interessantes para abordar nos paragrafos, **alinhados com a Forma de Abordagem e Propósito**.\n",
        "    O plano deve ser uma lista numerada que delineia a estrutura completa do post.\n",
        "    \"\"\",\n",
        "    description=\"Planejador de conteúdo\",\n",
        ")\n",
        "\n",
        "# --- Agente 3: Redator do Post ---\n",
        "# Defina o objeto do agente aqui ou antes da lógica principal\n",
        "redator_agent_obj = Agent(\n",
        "    name=\"agente_redator\",\n",
        "    model=\"gemini-2.0-flash\",\n",
        "    instruction=\"\"\"\n",
        "        Você é um redator Criativo especializado em linguagem e gramatica,\n",
        "        com foco em criar redações e resumos tecnicos profissionais.\n",
        "        Você escreve para alunos e profissionais buscando aprimorar seus conhecimentos.\n",
        "        Escrita profissional mas com toque didático.\n",
        "        Utilize o tema fornecido no plano de post e os pontos mais relevantes fornecidos e, com base nisso,\n",
        "        escreva o texto abordando o tema, **mantendo a Forma de Abordagem e o Propósito originais**.\n",
        "        Importante ressaltar para deixar pelo menos 1 citação relevante.\n",
        "        O post deve ser engajador, informativo, que prenda a tenção e foco do leitor.\n",
        "        O texto deve seguir um padrão de no máximo 300 palavras.\n",
        "\n",
        "        \"\"\",\n",
        "    description=\"Agente redator de posts engajador\"\n",
        ")\n",
        "\n",
        "# --- Agente 4: Revisor de Qualidade ---\n",
        "# Defina o objeto do agente aqui ou antes da lógica principal\n",
        "revisor_agent_obj = Agent(\n",
        "    name=\"agente_revisor\",\n",
        "    model=\"gemini-2.0-flash\",\n",
        "    instruction=\"\"\"\n",
        "        Você é um revisor Criativo especializado em linguagem e gramatica,\n",
        "        com foco em criar redações e resumos tecnicos profissionais.\n",
        "        Você escreve para alunos e profissionais buscando aprimorar seus conhecimentos.\n",
        "        Escrita profissional mas com toque didático. Seja conciso em suas redações.\n",
        "        Revise o rascunho de post abaixo sobre o tópico indicado, verificando\n",
        "        sua escrita, **assegurando que a Forma de Abordagem e o Propósito originais sejam mantidos**.\n",
        "        Não desejo que seja exigente e nem faça muitas correções\n",
        "        Apenas exija mudança se for realmente importante e necessário para\n",
        "        melhoria do material original.\n",
        "        Se o rascunho estiver bom, responda apenas 'O rascunho está pronto!'.\n",
        "        O texto deve seguir um padrão de no máximo 300 palavras.\n",
        "        proibido de fazer correção após 2 tentativas.\n",
        "        \"\"\",\n",
        "    description=\"Agente revisor de post.\"\n",
        ")\n",
        "\n",
        "\n",
        "# --- Lógica Principal de Orquestração do Chatbot (Modificada) ---\n",
        "\n",
        "## 🚀 Iniciando o Sistema de Planejamento e Geração de Conteúdo 🚀\n",
        "\n",
        "# Obtém a data atual para uso posterior\n",
        "data_de_hoje = date.today().strftime(\"%d/%m/%Y\")\n",
        "\n",
        "### ❓ Obtendo o Tópico e Preferências do Usuário\n",
        "\n",
        "print(\"## 📚 Inicie o Planejamento do seu Conteúdo! 📚\")\n",
        "\n",
        "print(\"\\nPor favor, digite o TÓPICO principal sobre o qual você quer estudar/criar conteúdo:\")\n",
        "topico = input(\"Tópico: \")\n",
        "\n",
        "if not topico:\n",
        "  print(\"❌ Nenhum tópico inserido. Por favor, insira um tópico válido para continuar.\")\n",
        "else:\n",
        "  print(f\"\\n✅ Tópico recebido: {topico}.\")\n",
        "\n",
        "  print(\"\\nCom qual FORMA DE ABORDAGEM você deseja que o tema seja tratado? (Ex: Técnica, Didática, Histórica, Comparativa, etc.)\")\n",
        "  forma_abordagem = input(\"Forma de Abordagem: \")\n",
        "\n",
        "  print(\"\\nQual o PROPÓSITO principal deste conteúdo? (Ex: Explicar um conceito, Comparar tecnologias, Apresentar tendências, Guia prático, etc.)\")\n",
        "  proposito_conteudo = input(\"Propósito do Conteúdo: \")\n",
        "\n",
        "  print(f\"\\n✅ Preferências capturadas:\")\n",
        "  print(f\"- Tópico: {topico}\")\n",
        "  print(f\"- Forma de Abordagem: {forma_abordagem if forma_abordagem else 'Não especificada'}\")\n",
        "  print(f\"- Propósito: {proposito_conteudo if proposito_conteudo else 'Não especificado'}\")\n",
        "\n",
        "  print(\"\\nIniciando o processo de busca e planejamento...\")\n",
        "\n",
        "  ## 🔍 Etapa 1: Buscando Informações Relevantes (Agente Buscador)\n",
        "\n",
        "  print(\"\\n--- Executando Agente Buscador ---\")\n",
        "  # Chama o agente buscador para coletar dados sobre o tópico\n",
        "  # Inclua as preferências do usuário na entrada do agente buscador\n",
        "  entrada_do_agente_buscador = f\"\"\"\n",
        "  Tópico: {topico}\n",
        "  Data de hoje: {data_de_hoje}\n",
        "  Forma de Abordagem Desejada: {forma_abordagem if forma_abordagem else 'Não especificada'}\n",
        "  Propósito do Conteúdo: {proposito_conteudo if proposito_conteudo else 'Não especificado'}\n",
        "  \"\"\"\n",
        "  lançamentos_buscados = call_agent(buscador_agent_obj, entrada_do_agente_buscador)\n",
        "\n",
        "  print(\"\\n### Resultado da Busca:\")\n",
        "  # Exibe os resultados da busca formatados em Markdown\n",
        "  display(to_markdown(lançamentos_buscados))\n",
        "  print(\"-------------------------------\")\n",
        "\n",
        "  ## 📝 Etapa 2: Planejando a Estrutura do Conteúdo (Agente Planejador)\n",
        "\n",
        "  print(\"\\n--- Executando Agente Planejador ---\")\n",
        "  # Chama o agente planejador para criar um plano de conteúdo baseado na busca\n",
        "  # Inclua as preferências do usuário na entrada do agente planejador\n",
        "  entrada_do_agente_planejador = f\"\"\"\n",
        "  Tópico: {topico}\n",
        "  Forma de Abordagem Desejada: {forma_abordagem if forma_abordagem else 'Não especificada'}\n",
        "  Propósito do Conteúdo: {proposito_conteudo if proposito_conteudo else 'Não especificado'}\n",
        "  Lançamentos buscados: {lançamentos_buscados}\n",
        "  \"\"\"\n",
        "  plano_de_post = call_agent(planejador_agent_obj, entrada_do_agente_planejador)\n",
        "\n",
        "  print(\"\\n### Plano de Conteúdo Gerado:\")\n",
        "  # Exibe o plano de conteúdo formatado em Markdown\n",
        "  display(to_markdown(plano_de_post))\n",
        "  print(\"-------------------------------\")\n",
        "\n",
        "  ## ✍️ Etapa 3: Gerando e Revisando Conteúdo por Seção (Agente Redator & Revisor)\n",
        "\n",
        "  print(\"\\n--- Iniciando Geração e Revisão do Rascunho (por Seção) ---\")\n",
        "\n",
        "  # Extrai as seções do plano de conteúdo para processamento individual\n",
        "  secoes_do_plano = extrair_secoes_do_plano(plano_de_post)\n",
        "\n",
        "  # Crie uma lista para armazenar os rascunhos de cada seção\n",
        "  rascunhos_individuais_secoes = []\n",
        "\n",
        "  if not secoes_do_plano:\n",
        "      print(\"⚠️ Aviso: Não foi possível extrair seções do plano. Não será possível gerar o rascunho por seção.\")\n",
        "      rascunho_do_post = \"\" # Define rascunho_do_post como vazio se não houver seções\n",
        "  else:\n",
        "      rascunho_do_post_partes = [] # Lista para armazenar as partes do rascunho por seção\n",
        "      MAX_TENTATIVAS_REVISAO = 3 # Limite para o ciclo de revisão por seção\n",
        "\n",
        "      # Loop sobre cada seção do plano\n",
        "      for i, secao in enumerate(secoes_do_plano):\n",
        "          print(f\"\\n--- Processando Seção {i+1}/{len(secoes_do_plano)}: '{secao}' ---\")\n",
        "\n",
        "          ### ✏️ Gerando Rascunho Inicial da Seção\n",
        "\n",
        "          # Inclua as preferências do usuário na entrada para o redator\n",
        "          entrada_para_redator_secao = f\"\"\"\n",
        "          Tópico Geral: {topico}\n",
        "          Forma de Abordagem Desejada: {forma_abordagem if forma_abordagem else 'Não especificada'}\n",
        "          Propósito do Conteúdo: {proposito_conteudo if proposito_conteudo else 'Não especificado'}\n",
        "\n",
        "          Plano de Conteúdo Completo:\n",
        "          {plano_de_post}\n",
        "\n",
        "          ---\n",
        "          POR FAVOR, ESCREVA APENAS O CONTEÚDO DA SEÇÃO ESPECÍFICA ABAIXO.\n",
        "          Não inclua o título da seção no início da sua resposta.\n",
        "          Seção a escrever: {secao}\n",
        "\n",
        "          Instruções Adicionais para esta Seção:\n",
        "          (Se houver instruções específicas para esta seção do plano, adicione aqui)\n",
        "          \"\"\"\n",
        "          rascunho_da_secao = call_agent(redator_agent_obj, entrada_para_redator_secao)\n",
        "          print(\"\\n#### Rascunho Inicial:\")\n",
        "          display(to_markdown(rascunho_da_secao))\n",
        "          print(\"-------------------------------\")\n",
        "\n",
        "          ### 👀 Ciclo de Revisão da Seção\n",
        "\n",
        "          revisao_finalizada = False\n",
        "          tentativas_revisao = 0\n",
        "\n",
        "          # Loop de revisão até aprovação ou limite de tentativas\n",
        "          while not revisao_finalizada and tentativas_revisao < MAX_TENTATIVAS_REVISAO:\n",
        "              tentativas_revisao += 1\n",
        "              print(f\"\\n--- Revisando Seção (Tentativa {tentativas_revisao}/{MAX_TENTATIVAS_REVISAO}) ---\")\n",
        "\n",
        "              # Inclua as preferências do usuário na entrada para o revisor\n",
        "              entrada_para_revisor_secao = f\"\"\"\n",
        "              Tópico Geral: {topico}\n",
        "              Forma de Abordagem Desejada: {forma_abordagem if forma_abordagem else 'Não especificada'}\n",
        "              Propósito do Conteúdo: {proposito_conteudo if proposito_conteudo else 'Não especificado'}\n",
        "              Plano de Conteúdo Relevante para esta Seção: {plano_de_post}\n",
        "\n",
        "              ---\n",
        "              Rascunho da Seção \"{secao}\" para Revisão:\n",
        "              {rascunho_da_secao}\n",
        "\n",
        "              Por favor, revise o rascunho da seção acima. Se estiver bom, responda APENAS a frase exata 'O rascunho está ótimo e pronto!'. Caso contrário, aponte os problemas e sugira melhorias específicas para que o redator possa corrigir. Certifique-se de que a revisão leva em conta a Forma de Abordagem e o Propósito originais.\n",
        "              \"\"\"\n",
        "\n",
        "              feedback_revisor = call_agent(revisor_agent_obj, entrada_para_revisor_secao)\n",
        "              print(\"\\n#### Feedback do Revisor:\")\n",
        "              display(to_markdown(feedback_revisor))\n",
        "              print(\"-------------------------------\")\n",
        "\n",
        "              if feedback_revisor.strip().lower() == 'o rascunho está ótimo e pronto!':\n",
        "                  print(f\"👍 Seção '{secao}' aprovada pelo Revisor!\")\n",
        "                  revisao_finalizada = True # Sai do loop de revisão para esta seção\n",
        "              else:\n",
        "                  print(f\"🔄 Seção '{secao}' precisa de correções. Enviando feedback para o Redator.\")\n",
        "                  # Prepara a entrada para o Redator corrigir com base no feedback\n",
        "                  # Inclua as preferências do usuário na entrada para o redator corrigir\n",
        "                  entrada_para_redator_correcao = f\"\"\"\n",
        "                  Tópico Geral: {topico}\n",
        "                  Forma de Abordagem Desejada: {forma_abordagem if forma_abordagem else 'Não especificada'}\n",
        "                  Propósito do Conteúdo: {proposito_conteudo if proposito_conteudo else 'Não especificado'}\n",
        "                  Plano de Conteúdo Completo:\n",
        "                  {plano_de_post}\n",
        "                  ---\n",
        "                  POR FAVOR, REESCREVA/CORRIJA APENAS O CONTEÚDO DA SEÇÃO ESPECÍFICA ABAIXO, BASEADO NO FEEDBACK.\n",
        "                  Não inclua o título da seção no início da sua resposta.\n",
        "                  Seção a corrigir: {secao}\n",
        "                  Rascunho Anterior Desta Seção:\n",
        "                  {rascunho_da_secao}\n",
        "                  ---\n",
        "                  Feedback do Revisor para Correção:\n",
        "                  {feedback_revisor}\n",
        "                  Por favor, incorpore as sugestões de correção do revisor no novo rascunho desta seção, garantindo que a Forma de Abordagem e o Propósito sejam mantidos.\n",
        "                  \"\"\"\n",
        "                  # Chama o Redator novamente com a solicitação de correção\n",
        "                  rascunho_da_secao = call_agent(redator_agent_obj, entrada_para_redator_correcao)\n",
        "                  print(\"\\n#### Rascunho Corrigido:\")\n",
        "                  display(to_markdown(rascunho_da_secao))\n",
        "                  print(\"-------------------------------\")\n",
        "\n",
        "          # Fim do ciclo de revisão para a seção atual\n",
        "\n",
        "          if not revisao_finalizada:\n",
        "              print(f\"⚠️ Aviso: A Seção '{secao}' não foi aprovada após {MAX_TENTATIVAS_REVISAO} tentativas. Usando a última versão gerada.\")\n",
        "\n",
        "          # Adiciona a versão final da seção (aprovada ou a última tentativa) à lista de rascunhos individuais\n",
        "          # Adiciona também o título da seção para melhor visualização no final\n",
        "          rascunhos_individuais_secoes.append(f\"## {secao}\\n\\n{rascunho_da_secao}\")\n",
        "\n",
        "          # Adiciona também às partes do rascunho completo (mantendo a funcionalidade original)\n",
        "          rascunho_do_post_partes.append(f\"## {secao}\\n\\n{rascunho_da_secao}\")\n",
        "\n",
        "\n",
        "      # Junta todas as partes das seções revisadas para formar o rascunho completo\n",
        "      rascunho_do_post = \"\\n\\n\".join(rascunho_do_post_partes)\n",
        "\n",
        "      print(\"\\n--- Geração e Revisão por Seção Concluídas ---\")\n",
        "      print(\"\\n## 🎉 Rascunho Completo Gerado (Após Revisão por Seção) 🎉\")\n",
        "      # Exibe o rascunho completo final formatado\n",
        "      display(to_markdown(rascunho_do_post))\n",
        "      print(\"-------------------------------\")\n",
        "\n",
        "\n",
        "  ## ✅ Processo de Planejamento e Geração Finalizado ✅\n",
        "\n",
        "  print(\"\\nO sistema concluiu o processo de planejamento e geração de conteúdo.\")"
      ],
      "cell_type": "code",
      "metadata": {
        "colab": {
          "base_uri": "https://localhost:8080/",
          "height": 1000
        },
        "id": "cQHnpAtt-kUK",
        "outputId": "ce86f1dc-9912-4c0f-d54b-158cbb11ccb8"
      },
      "execution_count": 13,
      "outputs": [
        {
          "output_type": "stream",
          "name": "stdout",
          "text": [
            "## 📚 Inicie o Planejamento do seu Conteúdo! 📚\n",
            "\n",
            "Por favor, digite o TÓPICO principal sobre o qual você quer estudar/criar conteúdo:\n",
            "Tópico: Biologia molecular\n",
            "\n",
            "✅ Tópico recebido: Biologia molecular.\n",
            "\n",
            "Com qual FORMA DE ABORDAGEM você deseja que o tema seja tratado? (Ex: Técnica, Didática, Histórica, Comparativa, etc.)\n",
            "Forma de Abordagem: Didatica\n",
            "\n",
            "Qual o PROPÓSITO principal deste conteúdo? (Ex: Explicar um conceito, Comparar tecnologias, Apresentar tendências, Guia prático, etc.)\n",
            "Propósito do Conteúdo: resumo para estudo\n",
            "\n",
            "✅ Preferências capturadas:\n",
            "- Tópico: Biologia molecular\n",
            "- Forma de Abordagem: Didatica\n",
            "- Propósito: resumo para estudo\n",
            "\n",
            "Iniciando o processo de busca e planejamento...\n",
            "\n",
            "--- Executando Agente Buscador ---\n",
            "\n",
            "### Resultado da Busca:\n"
          ]
        },
        {
          "output_type": "display_data",
          "data": {
            "text/plain": [
              "<IPython.core.display.Markdown object>"
            ],
            "text/markdown": "> Ok, entendi. Vou buscar informações detalhadas sobre biologia molecular, com foco em dados, fatos, tendências e exemplos relevantes para um resumo de estudo com abordagem didática.\n> \n> \n> Com certeza! Aqui está um resumo didático sobre biologia molecular para seus estudos:\n> \n> **O que é Biologia Molecular?**\n> \n> *   É o ramo da biologia que estuda a vida em nível molecular.\n> *   Examina a estrutura, a função e as interações entre as moléculas biológicas (DNA, RNA e proteínas) dentro das células.\n> *   Busca entender como esses componentes moleculares influenciam os processos biológicos e as características dos organismos vivos.\n> \n> **Conceitos Fundamentais:**\n> \n> *   **DNA (Ácido Desoxirribonucleico):**\n>     *   É a molécula que contém as informações genéticas.\n>     *   Possui uma estrutura de dupla hélice composta por nucleotídeos (adenina, timina, citosina e guanina).\n> *   **RNA (Ácido Ribonucleico):**\n>     *   Atua em diversas funções celulares, incluindo a síntese de proteínas.\n>     *   Existem diferentes tipos de RNA (mRNA, tRNA, rRNA) com papéis específicos.\n> *   **Proteínas:**\n>     *   São moléculas complexas formadas por aminoácidos.\n>     *   Desempenham diversas funções nas células, como catálise de reações, transporte de moléculas e estruturação celular.\n> *   **Dogma Central da Biologia Molecular:**\n>     *   Descreve o fluxo de informação genética: DNA → RNA → Proteína.\n>     *   O DNA é transcrito em RNA, que é traduzido em proteínas.\n> \n> **Processos Essenciais:**\n> \n> *   **Replicação:**\n>     *   Processo de cópia do DNA para garantir a transmissão da informação genética durante a divisão celular.\n>     *   Enzimas como a DNA polimerase desempenham um papel fundamental.\n> *   **Transcrição:**\n>     *   Processo de produção de RNA a partir de um molde de DNA.\n>     *   A enzima RNA polimerase é responsável por esse processo.\n> *   **Tradução:**\n>     *   Processo de síntese de proteínas a partir da informação contida no RNA mensageiro (mRNA).\n>     *   Ocorre nos ribossomos, com a participação do tRNA e rRNA.\n> *   **Regulação da Expressão Gênica:**\n>     *   Mecanismos que controlam quais genes são expressos em determinados momentos e em quais células.\n>     *   Envolve interações entre proteínas e sequências específicas de DNA.\n> \n> **Técnicas Importantes:**\n> \n> *   **PCR (Reação em Cadeia da Polimerase):**\n>     *   Técnica para amplificar (criar muitas cópias) de um segmento específico de DNA.\n>     *   Amplamente utilizada em diagnósticos, pesquisa e forense.\n> *   **Eletroforese:**\n>     *   Método para separar moléculas (DNA, RNA ou proteínas) com base em seu tamanho e carga elétrica.\n> *   **Clonagem:**\n>     *   Processo de produção de cópias idênticas de um fragmento de DNA.\n> *   **Sequenciamento de DNA:**\n>     *   Determinação da ordem dos nucleotídeos em uma molécula de DNA.\n>     *   Fundamental para identificar genes, mutações e variações genéticas.\n> *   **CRISPR-Cas9:**\n>     *   Tecnologia de edição genética que permite modificar genes de forma precisa.\n> \n> **História da Biologia Molecular:**\n> \n> *   **1869:** Friedrich Miescher isola o ácido nucleico.\n> *   **1866:** Gregor Mendel inventou e desenvolveu a lei da herança (conhecida como lei das ervilhas).\n> *   **1953:** James Watson e Francis Crick propõem o modelo da dupla hélice do DNA.\n> *   **Década de 1980:** Desenvolvimento da técnica de PCR.\n> *   **2003:** Conclusão do sequenciamento do genoma humano.\n> \n> **Aplicações da Biologia Molecular:**\n> \n> *   **Medicina:**\n>     *   Diagnóstico de doenças genéticas e infecciosas.\n>     *   Desenvolvimento de terapias gênicas e medicamentos personalizados.\n>     *   Identificação de agentes infecciosos\n> *   **Agricultura:**\n>     *   Melhoramento genético de plantas para aumentar a produtividade e resistência a pragas.\n>     *   Produção de culturas transgênicas.\n> *   **Biotecnologia:**\n>     *   Produção de proteínas recombinantes para uso terapêutico e industrial.\n>     *   Desenvolvimento de novas tecnologias para análise e manipulação do material genético.\n> *   **Ciência Forense:**\n>     *   Análise de DNA para identificação de indivíduos em investigações criminais.\n>     *   Resolução de casos legais.\n> \n> **Reagentes:**\n> \n> *   Enzimas de restrição.\n> *   DNA e RNA polimerases.\n> *   Nucleotídeos.\n> *   Ligases.\n> \n> Espero que este resumo seja útil para seus estudos!\n> \n"
          },
          "metadata": {}
        },
        {
          "output_type": "stream",
          "name": "stdout",
          "text": [
            "-------------------------------\n",
            "\n",
            "--- Executando Agente Planejador ---\n",
            "\n",
            "### Plano de Conteúdo Gerado:\n"
          ]
        },
        {
          "output_type": "display_data",
          "data": {
            "text/plain": [
              "<IPython.core.display.Markdown object>"
            ],
            "text/markdown": "> 1.  Conceitos Fundamentais da Biologia Molecular: DNA, RNA e Proteínas\n> 2.  Processos Essenciais: Replicação, Transcrição e Tradução\n> 3.  Técnicas Fundamentais da Biologia Molecular: PCR, Eletroforese e CRISPR-Cas9\n> 4.  Aplicações Práticas da Biologia Molecular: Medicina, Agricultura e Biotecnologia\n"
          },
          "metadata": {}
        },
        {
          "output_type": "stream",
          "name": "stdout",
          "text": [
            "-------------------------------\n",
            "\n",
            "--- Iniciando Geração e Revisão do Rascunho (por Seção) ---\n",
            "\n",
            "--- Processando Seção 1/4: 'Conceitos Fundamentais da Biologia Molecular: DNA, RNA e Proteínas' ---\n",
            "\n",
            "#### Rascunho Inicial:\n"
          ]
        },
        {
          "output_type": "display_data",
          "data": {
            "text/plain": [
              "<IPython.core.display.Markdown object>"
            ],
            "text/markdown": "> ## Desvendando os Segredos da Vida: DNA, RNA e Proteínas\n> \n> A biologia molecular é como o manual de instruções da vida, revelando os segredos por trás do funcionamento de cada célula. No centro desse universo, encontramos três protagonistas: DNA, RNA e proteínas.\n> \n> **DNA: O Código da Vida**\n> \n> Imagine o DNA como o livro mestre da célula, onde todas as informações genéticas estão armazenadas. Com sua estrutura de dupla hélice, ele carrega as instruções para construir e manter um organismo. Cada \"letra\" desse código é uma base nitrogenada (adenina, timina, citosina e guanina), e a sequência dessas letras determina nossas características únicas.\n> \n> **RNA: O Mensageiro**\n> \n> Se o DNA é o livro mestre, o RNA é o mensageiro que leva cópias das instruções para a produção de proteínas. Existem diferentes tipos de RNA, cada um com uma função específica, como o RNA mensageiro (mRNA), que carrega a receita para a produção de uma proteína específica.\n> \n> **Proteínas: As Operárias da Célula**\n> \n> As proteínas são as operárias incansáveis da célula, responsáveis por realizar uma variedade de funções essenciais. Elas atuam como enzimas, acelerando reações químicas, transportam moléculas, constroem estruturas celulares e defendem o organismo contra invasores. A sequência de aminoácidos em uma proteína determina sua forma tridimensional e, consequentemente, sua função.\n> \n> Como disse Francis Crick, um dos descobridores da estrutura do DNA, \"a biologia molecular tornou-se molecular; ela não é mais uma coleção de fenômenos obscuros\". Ao compreendermos o papel do DNA, RNA e proteínas, podemos desvendar os mistérios da vida e abrir portas para novas descobertas na medicina, agricultura e biotecnologia.\n"
          },
          "metadata": {}
        },
        {
          "output_type": "stream",
          "name": "stdout",
          "text": [
            "-------------------------------\n",
            "\n",
            "--- Revisando Seção (Tentativa 1/3) ---\n",
            "\n",
            "#### Feedback do Revisor:\n"
          ]
        },
        {
          "output_type": "display_data",
          "data": {
            "text/plain": [
              "<IPython.core.display.Markdown object>"
            ],
            "text/markdown": "> O rascunho está ótimo e pronto!\n> \n"
          },
          "metadata": {}
        },
        {
          "output_type": "stream",
          "name": "stdout",
          "text": [
            "-------------------------------\n",
            "👍 Seção 'Conceitos Fundamentais da Biologia Molecular: DNA, RNA e Proteínas' aprovada pelo Revisor!\n",
            "\n",
            "--- Processando Seção 2/4: 'Processos Essenciais: Replicação, Transcrição e Tradução' ---\n",
            "\n",
            "#### Rascunho Inicial:\n"
          ]
        },
        {
          "output_type": "display_data",
          "data": {
            "text/plain": [
              "<IPython.core.display.Markdown object>"
            ],
            "text/markdown": "> No coração da biologia molecular, encontramos os processos que sustentam a vida: replicação, transcrição e tradução.\n> \n> A **replicação** é o processo de copiar o DNA, garantindo que cada nova célula receba uma cópia idêntica do genoma. Imagine o DNA como um livro de receitas; a replicação é como fazer uma cópia exata desse livro para que cada chef tenha a mesma receita.\n> \n> A **transcrição** é a síntese de RNA a partir de um molde de DNA. Se o DNA é o livro de receitas, a transcrição é como copiar uma receita específica desse livro. O RNA mensageiro (mRNA) carrega essa receita para os ribossomos, onde a proteína será produzida.\n> \n> A **tradução** é a síntese de proteínas a partir do mRNA. Usando a receita do mRNA, os ribossomos unem os aminoácidos na ordem correta para criar a proteína. É como seguir a receita para criar o prato final.\n> \n> Como disse Francis Crick, um dos descobridores da estrutura do DNA: \"A biologia molecular nos mostra a unidade básica de todos os seres vivos.\" Esses processos garantem a continuidade da vida e a diversidade das funções celulares.\n> \n"
          },
          "metadata": {}
        },
        {
          "output_type": "stream",
          "name": "stdout",
          "text": [
            "-------------------------------\n",
            "\n",
            "--- Revisando Seção (Tentativa 1/3) ---\n",
            "\n",
            "#### Feedback do Revisor:\n"
          ]
        },
        {
          "output_type": "display_data",
          "data": {
            "text/plain": [
              "<IPython.core.display.Markdown object>"
            ],
            "text/markdown": "> O rascunho está ótimo e pronto!\n> \n"
          },
          "metadata": {}
        },
        {
          "output_type": "stream",
          "name": "stdout",
          "text": [
            "-------------------------------\n",
            "👍 Seção 'Processos Essenciais: Replicação, Transcrição e Tradução' aprovada pelo Revisor!\n",
            "\n",
            "--- Processando Seção 3/4: 'Técnicas Fundamentais da Biologia Molecular: PCR, Eletroforese e CRISPR-Cas9' ---\n",
            "\n",
            "#### Rascunho Inicial:\n"
          ]
        },
        {
          "output_type": "display_data",
          "data": {
            "text/plain": [
              "<IPython.core.display.Markdown object>"
            ],
            "text/markdown": "> Na biologia molecular, algumas técnicas são tão importantes que se tornaram verdadeiros pilares. A **reação em cadeia da polimerase (PCR)**, por exemplo, é como uma fotocopiadora de DNA, permitindo amplificar milhões de cópias de um segmento específico. Já a **eletroforese** funciona como uma peneira molecular, separando moléculas de DNA, RNA ou proteínas com base no tamanho e carga elétrica.\n> \n> E não podemos esquecer da edição gênica com o sistema **CRISPR-Cas9**, uma ferramenta revolucionária que funciona como um \"Ctrl+C Ctrl+V\" do DNA, permitindo editar genes com uma precisão nunca antes vista.\n> \n> _\"A biologia molecular não é apenas uma disciplina, mas uma abordagem\"_ - **Sydney Brenner**.\n"
          },
          "metadata": {}
        },
        {
          "output_type": "stream",
          "name": "stdout",
          "text": [
            "-------------------------------\n",
            "\n",
            "--- Revisando Seção (Tentativa 1/3) ---\n",
            "\n",
            "#### Feedback do Revisor:\n"
          ]
        },
        {
          "output_type": "display_data",
          "data": {
            "text/plain": [
              "<IPython.core.display.Markdown object>"
            ],
            "text/markdown": "> O rascunho está ótimo e pronto!\n> \n"
          },
          "metadata": {}
        },
        {
          "output_type": "stream",
          "name": "stdout",
          "text": [
            "-------------------------------\n",
            "👍 Seção 'Técnicas Fundamentais da Biologia Molecular: PCR, Eletroforese e CRISPR-Cas9' aprovada pelo Revisor!\n",
            "\n",
            "--- Processando Seção 4/4: 'Aplicações Práticas da Biologia Molecular: Medicina, Agricultura e Biotecnologia' ---\n",
            "\n",
            "#### Rascunho Inicial:\n"
          ]
        },
        {
          "output_type": "display_data",
          "data": {
            "text/plain": [
              "<IPython.core.display.Markdown object>"
            ],
            "text/markdown": "> Na medicina, a biologia molecular revolucionou o diagnóstico e tratamento de doenças. Testes genéticos identificam predisposições e auxiliam no desenvolvimento de terapias personalizadas. A terapia gênica, por exemplo, oferece novas esperanças para doenças genéticas, corrigindo ou substituindo genes defeituosos.\n> \n> Na agricultura, técnicas de biologia molecular permitem criar plantas mais resistentes a pragas, tolerantes a condições adversas e com maior valor nutricional. A modificação genética de culturas, embora controversa, tem o potencial de aumentar a produção de alimentos e reduzir o uso de pesticidas.\n> \n> Na biotecnologia, a biologia molecular impulsiona a produção de биоfármacos, enzimas e outros produtos de interesse industrial. A engenharia de microorganismos para produzir biocombustíveis e bioplásticos são exemplos de aplicações inovadoras que podem contribuir para um futuro mais sustentável.\n> \n> \"A biologia molecular é a chave para compreendermos a vida em sua essência e para desenvolvermos soluções inovadoras para os desafios que enfrentamos.\" - Sydney Brenner, ganhador do Prêmio Nobel de Fisiologia ou Medicina.\n> \n"
          },
          "metadata": {}
        },
        {
          "output_type": "stream",
          "name": "stdout",
          "text": [
            "-------------------------------\n",
            "\n",
            "--- Revisando Seção (Tentativa 1/3) ---\n",
            "\n",
            "#### Feedback do Revisor:\n"
          ]
        },
        {
          "output_type": "display_data",
          "data": {
            "text/plain": [
              "<IPython.core.display.Markdown object>"
            ],
            "text/markdown": "> O rascunho está pronto!\n> \n"
          },
          "metadata": {}
        },
        {
          "output_type": "stream",
          "name": "stdout",
          "text": [
            "-------------------------------\n",
            "🔄 Seção 'Aplicações Práticas da Biologia Molecular: Medicina, Agricultura e Biotecnologia' precisa de correções. Enviando feedback para o Redator.\n",
            "\n",
            "#### Rascunho Corrigido:\n"
          ]
        },
        {
          "output_type": "display_data",
          "data": {
            "text/plain": [
              "<IPython.core.display.Markdown object>"
            ],
            "text/markdown": "> Na medicina, a biologia molecular transformou o diagnóstico e tratamento de doenças. Testes genéticos revelam predisposições, orientando terapias personalizadas. A terapia gênica surge como esperança para doenças genéticas, corrigindo ou substituindo genes defeituosos.\n> \n> Na agricultura, a biologia molecular cria plantas mais resistentes, tolerantes e nutritivas. A modificação genética de culturas, embora debatida, pode aumentar a produção de alimentos e reduzir o uso de pesticidas.\n> \n> Na biotecnologia, a biologia molecular impulsiona a produção de biofármacos, enzimas e produtos industriais. A engenharia de microrganismos para biocombustíveis e bioplásticos exemplifica aplicações inovadoras para um futuro sustentável.\n> \n> \"A biologia molecular é a chave para compreendermos a vida em sua essência e para desenvolvermos soluções inovadoras para os desafios que enfrentamos.\" - Sydney Brenner, ganhador do Prêmio Nobel de Fisiologia ou Medicina.\n> \n"
          },
          "metadata": {}
        },
        {
          "output_type": "stream",
          "name": "stdout",
          "text": [
            "-------------------------------\n",
            "\n",
            "--- Revisando Seção (Tentativa 2/3) ---\n",
            "\n",
            "#### Feedback do Revisor:\n"
          ]
        },
        {
          "output_type": "display_data",
          "data": {
            "text/plain": [
              "<IPython.core.display.Markdown object>"
            ],
            "text/markdown": "> O rascunho está pronto!\n> \n"
          },
          "metadata": {}
        },
        {
          "output_type": "stream",
          "name": "stdout",
          "text": [
            "-------------------------------\n",
            "🔄 Seção 'Aplicações Práticas da Biologia Molecular: Medicina, Agricultura e Biotecnologia' precisa de correções. Enviando feedback para o Redator.\n",
            "\n",
            "#### Rascunho Corrigido:\n"
          ]
        },
        {
          "output_type": "display_data",
          "data": {
            "text/plain": [
              "<IPython.core.display.Markdown object>"
            ],
            "text/markdown": "> Na medicina, a biologia molecular revolucionou o diagnóstico e tratamento de doenças. Testes genéticos identificam predisposições, personalizando terapias. A terapia gênica oferece esperança para doenças genéticas, corrigindo ou substituindo genes defeituosos.\n> \n> Na agricultura, a biologia molecular cria plantas mais resistentes e nutritivas. A modificação genética de culturas, embora debatida, visa aumentar a produção de alimentos e reduzir o uso de pesticidas.\n> \n> Na biotecnologia, a biologia molecular impulsiona a produção de biofármacos, enzimas e produtos industriais. A engenharia de microrganismos para biocombustíveis e bioplásticos exemplifica aplicações inovadoras para um futuro sustentável.\n> \n> \"A biologia molecular é a chave para compreendermos a vida em sua essência e para desenvolvermos soluções inovadoras para os desafios que enfrentamos.\" - Sydney Brenner, ganhador do Prêmio Nobel de Fisiologia ou Medicina.\n> \n"
          },
          "metadata": {}
        },
        {
          "output_type": "stream",
          "name": "stdout",
          "text": [
            "-------------------------------\n",
            "\n",
            "--- Revisando Seção (Tentativa 3/3) ---\n",
            "\n",
            "#### Feedback do Revisor:\n"
          ]
        },
        {
          "output_type": "display_data",
          "data": {
            "text/plain": [
              "<IPython.core.display.Markdown object>"
            ],
            "text/markdown": "> O rascunho está ótimo e pronto!\n> \n"
          },
          "metadata": {}
        },
        {
          "output_type": "stream",
          "name": "stdout",
          "text": [
            "-------------------------------\n",
            "👍 Seção 'Aplicações Práticas da Biologia Molecular: Medicina, Agricultura e Biotecnologia' aprovada pelo Revisor!\n",
            "\n",
            "--- Geração e Revisão por Seção Concluídas ---\n",
            "\n",
            "## 🎉 Rascunho Completo Gerado (Após Revisão por Seção) 🎉\n"
          ]
        },
        {
          "output_type": "display_data",
          "data": {
            "text/plain": [
              "<IPython.core.display.Markdown object>"
            ],
            "text/markdown": "> ## Conceitos Fundamentais da Biologia Molecular: DNA, RNA e Proteínas\n> \n> ## Desvendando os Segredos da Vida: DNA, RNA e Proteínas\n> \n> A biologia molecular é como o manual de instruções da vida, revelando os segredos por trás do funcionamento de cada célula. No centro desse universo, encontramos três protagonistas: DNA, RNA e proteínas.\n> \n> **DNA: O Código da Vida**\n> \n> Imagine o DNA como o livro mestre da célula, onde todas as informações genéticas estão armazenadas. Com sua estrutura de dupla hélice, ele carrega as instruções para construir e manter um organismo. Cada \"letra\" desse código é uma base nitrogenada (adenina, timina, citosina e guanina), e a sequência dessas letras determina nossas características únicas.\n> \n> **RNA: O Mensageiro**\n> \n> Se o DNA é o livro mestre, o RNA é o mensageiro que leva cópias das instruções para a produção de proteínas. Existem diferentes tipos de RNA, cada um com uma função específica, como o RNA mensageiro (mRNA), que carrega a receita para a produção de uma proteína específica.\n> \n> **Proteínas: As Operárias da Célula**\n> \n> As proteínas são as operárias incansáveis da célula, responsáveis por realizar uma variedade de funções essenciais. Elas atuam como enzimas, acelerando reações químicas, transportam moléculas, constroem estruturas celulares e defendem o organismo contra invasores. A sequência de aminoácidos em uma proteína determina sua forma tridimensional e, consequentemente, sua função.\n> \n> Como disse Francis Crick, um dos descobridores da estrutura do DNA, \"a biologia molecular tornou-se molecular; ela não é mais uma coleção de fenômenos obscuros\". Ao compreendermos o papel do DNA, RNA e proteínas, podemos desvendar os mistérios da vida e abrir portas para novas descobertas na medicina, agricultura e biotecnologia.\n> \n> \n> ## Processos Essenciais: Replicação, Transcrição e Tradução\n> \n> No coração da biologia molecular, encontramos os processos que sustentam a vida: replicação, transcrição e tradução.\n> \n> A **replicação** é o processo de copiar o DNA, garantindo que cada nova célula receba uma cópia idêntica do genoma. Imagine o DNA como um livro de receitas; a replicação é como fazer uma cópia exata desse livro para que cada chef tenha a mesma receita.\n> \n> A **transcrição** é a síntese de RNA a partir de um molde de DNA. Se o DNA é o livro de receitas, a transcrição é como copiar uma receita específica desse livro. O RNA mensageiro (mRNA) carrega essa receita para os ribossomos, onde a proteína será produzida.\n> \n> A **tradução** é a síntese de proteínas a partir do mRNA. Usando a receita do mRNA, os ribossomos unem os aminoácidos na ordem correta para criar a proteína. É como seguir a receita para criar o prato final.\n> \n> Como disse Francis Crick, um dos descobridores da estrutura do DNA: \"A biologia molecular nos mostra a unidade básica de todos os seres vivos.\" Esses processos garantem a continuidade da vida e a diversidade das funções celulares.\n> \n> \n> \n> ## Técnicas Fundamentais da Biologia Molecular: PCR, Eletroforese e CRISPR-Cas9\n> \n> Na biologia molecular, algumas técnicas são tão importantes que se tornaram verdadeiros pilares. A **reação em cadeia da polimerase (PCR)**, por exemplo, é como uma fotocopiadora de DNA, permitindo amplificar milhões de cópias de um segmento específico. Já a **eletroforese** funciona como uma peneira molecular, separando moléculas de DNA, RNA ou proteínas com base no tamanho e carga elétrica.\n> \n> E não podemos esquecer da edição gênica com o sistema **CRISPR-Cas9**, uma ferramenta revolucionária que funciona como um \"Ctrl+C Ctrl+V\" do DNA, permitindo editar genes com uma precisão nunca antes vista.\n> \n> _\"A biologia molecular não é apenas uma disciplina, mas uma abordagem\"_ - **Sydney Brenner**.\n> \n> \n> ## Aplicações Práticas da Biologia Molecular: Medicina, Agricultura e Biotecnologia\n> \n> Na medicina, a biologia molecular revolucionou o diagnóstico e tratamento de doenças. Testes genéticos identificam predisposições, personalizando terapias. A terapia gênica oferece esperança para doenças genéticas, corrigindo ou substituindo genes defeituosos.\n> \n> Na agricultura, a biologia molecular cria plantas mais resistentes e nutritivas. A modificação genética de culturas, embora debatida, visa aumentar a produção de alimentos e reduzir o uso de pesticidas.\n> \n> Na biotecnologia, a biologia molecular impulsiona a produção de biofármacos, enzimas e produtos industriais. A engenharia de microrganismos para biocombustíveis e bioplásticos exemplifica aplicações inovadoras para um futuro sustentável.\n> \n> \"A biologia molecular é a chave para compreendermos a vida em sua essência e para desenvolvermos soluções inovadoras para os desafios que enfrentamos.\" - Sydney Brenner, ganhador do Prêmio Nobel de Fisiologia ou Medicina.\n> \n"
          },
          "metadata": {}
        },
        {
          "output_type": "stream",
          "name": "stdout",
          "text": [
            "-------------------------------\n",
            "\n",
            "O sistema concluiu o processo de planejamento e geração de conteúdo.\n",
            "\n",
            "--- Visualização dos Rascunhos Individuais por Seção ---\n"
          ]
        },
        {
          "output_type": "display_data",
          "data": {
            "text/plain": [
              "<IPython.core.display.Markdown object>"
            ],
            "text/markdown": "> ## Conceitos Fundamentais da Biologia Molecular: DNA, RNA e Proteínas\n> \n> ## Desvendando os Segredos da Vida: DNA, RNA e Proteínas\n> \n> A biologia molecular é como o manual de instruções da vida, revelando os segredos por trás do funcionamento de cada célula. No centro desse universo, encontramos três protagonistas: DNA, RNA e proteínas.\n> \n> **DNA: O Código da Vida**\n> \n> Imagine o DNA como o livro mestre da célula, onde todas as informações genéticas estão armazenadas. Com sua estrutura de dupla hélice, ele carrega as instruções para construir e manter um organismo. Cada \"letra\" desse código é uma base nitrogenada (adenina, timina, citosina e guanina), e a sequência dessas letras determina nossas características únicas.\n> \n> **RNA: O Mensageiro**\n> \n> Se o DNA é o livro mestre, o RNA é o mensageiro que leva cópias das instruções para a produção de proteínas. Existem diferentes tipos de RNA, cada um com uma função específica, como o RNA mensageiro (mRNA), que carrega a receita para a produção de uma proteína específica.\n> \n> **Proteínas: As Operárias da Célula**\n> \n> As proteínas são as operárias incansáveis da célula, responsáveis por realizar uma variedade de funções essenciais. Elas atuam como enzimas, acelerando reações químicas, transportam moléculas, constroem estruturas celulares e defendem o organismo contra invasores. A sequência de aminoácidos em uma proteína determina sua forma tridimensional e, consequentemente, sua função.\n> \n> Como disse Francis Crick, um dos descobridores da estrutura do DNA, \"a biologia molecular tornou-se molecular; ela não é mais uma coleção de fenômenos obscuros\". Ao compreendermos o papel do DNA, RNA e proteínas, podemos desvendar os mistérios da vida e abrir portas para novas descobertas na medicina, agricultura e biotecnologia.\n"
          },
          "metadata": {}
        },
        {
          "output_type": "stream",
          "name": "stdout",
          "text": [
            "-------------------------------\n"
          ]
        },
        {
          "output_type": "display_data",
          "data": {
            "text/plain": [
              "<IPython.core.display.Markdown object>"
            ],
            "text/markdown": "> ## Processos Essenciais: Replicação, Transcrição e Tradução\n> \n> No coração da biologia molecular, encontramos os processos que sustentam a vida: replicação, transcrição e tradução.\n> \n> A **replicação** é o processo de copiar o DNA, garantindo que cada nova célula receba uma cópia idêntica do genoma. Imagine o DNA como um livro de receitas; a replicação é como fazer uma cópia exata desse livro para que cada chef tenha a mesma receita.\n> \n> A **transcrição** é a síntese de RNA a partir de um molde de DNA. Se o DNA é o livro de receitas, a transcrição é como copiar uma receita específica desse livro. O RNA mensageiro (mRNA) carrega essa receita para os ribossomos, onde a proteína será produzida.\n> \n> A **tradução** é a síntese de proteínas a partir do mRNA. Usando a receita do mRNA, os ribossomos unem os aminoácidos na ordem correta para criar a proteína. É como seguir a receita para criar o prato final.\n> \n> Como disse Francis Crick, um dos descobridores da estrutura do DNA: \"A biologia molecular nos mostra a unidade básica de todos os seres vivos.\" Esses processos garantem a continuidade da vida e a diversidade das funções celulares.\n> \n"
          },
          "metadata": {}
        },
        {
          "output_type": "stream",
          "name": "stdout",
          "text": [
            "-------------------------------\n"
          ]
        },
        {
          "output_type": "display_data",
          "data": {
            "text/plain": [
              "<IPython.core.display.Markdown object>"
            ],
            "text/markdown": "> ## Técnicas Fundamentais da Biologia Molecular: PCR, Eletroforese e CRISPR-Cas9\n> \n> Na biologia molecular, algumas técnicas são tão importantes que se tornaram verdadeiros pilares. A **reação em cadeia da polimerase (PCR)**, por exemplo, é como uma fotocopiadora de DNA, permitindo amplificar milhões de cópias de um segmento específico. Já a **eletroforese** funciona como uma peneira molecular, separando moléculas de DNA, RNA ou proteínas com base no tamanho e carga elétrica.\n> \n> E não podemos esquecer da edição gênica com o sistema **CRISPR-Cas9**, uma ferramenta revolucionária que funciona como um \"Ctrl+C Ctrl+V\" do DNA, permitindo editar genes com uma precisão nunca antes vista.\n> \n> _\"A biologia molecular não é apenas uma disciplina, mas uma abordagem\"_ - **Sydney Brenner**.\n"
          },
          "metadata": {}
        },
        {
          "output_type": "stream",
          "name": "stdout",
          "text": [
            "-------------------------------\n"
          ]
        },
        {
          "output_type": "display_data",
          "data": {
            "text/plain": [
              "<IPython.core.display.Markdown object>"
            ],
            "text/markdown": "> ## Aplicações Práticas da Biologia Molecular: Medicina, Agricultura e Biotecnologia\n> \n> Na medicina, a biologia molecular revolucionou o diagnóstico e tratamento de doenças. Testes genéticos identificam predisposições, personalizando terapias. A terapia gênica oferece esperança para doenças genéticas, corrigindo ou substituindo genes defeituosos.\n> \n> Na agricultura, a biologia molecular cria plantas mais resistentes e nutritivas. A modificação genética de culturas, embora debatida, visa aumentar a produção de alimentos e reduzir o uso de pesticidas.\n> \n> Na biotecnologia, a biologia molecular impulsiona a produção de biofármacos, enzimas e produtos industriais. A engenharia de microrganismos para biocombustíveis e bioplásticos exemplifica aplicações inovadoras para um futuro sustentável.\n> \n> \"A biologia molecular é a chave para compreendermos a vida em sua essência e para desenvolvermos soluções inovadoras para os desafios que enfrentamos.\" - Sydney Brenner, ganhador do Prêmio Nobel de Fisiologia ou Medicina.\n> \n"
          },
          "metadata": {}
        },
        {
          "output_type": "stream",
          "name": "stdout",
          "text": [
            "-------------------------------\n",
            "\n",
            "--- Fim da Visualização dos Rascunhos Individuais por Seção ---\n"
          ]
        }
      ]
    },
    {
      "cell_type": "code",
      "source": [
        "!pwd"
      ],
      "metadata": {
        "colab": {
          "base_uri": "https://localhost:8080/"
        },
        "id": "oT0FA8ujHbNu",
        "outputId": "e48a3fd6-f8ae-4121-9ce8-c17ec34c9d29"
      },
      "execution_count": 17,
      "outputs": [
        {
          "output_type": "stream",
          "name": "stdout",
          "text": [
            "/content\n"
          ]
        }
      ]
    },
    {
      "cell_type": "code",
      "source": [
        "%cd /content\n",
        "\n",
        "!git clone https://github.com/Thomas-Yano/Alura_projeto\n",
        "!git config --global user.name \"Thomas-Yano\"\n",
        "!git config --global user.email \"yanoyuiti2019@gmail.com\"\n",
        "!git add .\n",
        "!git commit -m \"Primeiro commit: Adicionando o notebook do projeto\"\n",
        "!git remote add origin <URL_DO_SEU_REPOSITORIO_GITHUB>\n",
        "!git push -u origin main\n"
      ],
      "metadata": {
        "colab": {
          "base_uri": "https://localhost:8080/"
        },
        "id": "jlXYwz6eCQ0a",
        "outputId": "ca4e627a-08bf-49fc-a1bf-c144a8e220bd"
      },
      "execution_count": 18,
      "outputs": [
        {
          "output_type": "stream",
          "name": "stdout",
          "text": [
            "/content\n",
            "Cloning into 'Alura_projeto'...\n",
            "remote: Enumerating objects: 10, done.\u001b[K\n",
            "remote: Counting objects: 100% (10/10), done.\u001b[K\n",
            "remote: Compressing objects: 100% (10/10), done.\u001b[K\n",
            "remote: Total 10 (delta 3), reused 0 (delta 0), pack-reused 0 (from 0)\u001b[K\n",
            "Receiving objects: 100% (10/10), 34.19 KiB | 3.42 MiB/s, done.\n",
            "Resolving deltas: 100% (3/3), done.\n",
            "fatal: not a git repository (or any of the parent directories): .git\n",
            "fatal: not a git repository (or any of the parent directories): .git\n",
            "/bin/bash: -c: line 1: syntax error near unexpected token `newline'\n",
            "/bin/bash: -c: line 1: `git remote add origin <URL_DO_SEU_REPOSITORIO_GITHUB>'\n",
            "fatal: not a git repository (or any of the parent directories): .git\n"
          ]
        }
      ]
    }
  ]
}